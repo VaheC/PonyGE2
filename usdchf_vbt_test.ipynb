{
 "cells": [
  {
   "cell_type": "markdown",
   "metadata": {},
   "source": [
    "# Loading some packages"
   ]
  },
  {
   "cell_type": "code",
   "execution_count": 1,
   "metadata": {},
   "outputs": [],
   "source": [
    "import vectorbt as vbt\n",
    "import pandas as pd\n",
    "import numpy as np\n",
    "from numba import njit\n",
    "from pathlib import Path\n",
    "import gc\n",
    "\n",
    "INSTRUMENT = 'usdchf'"
   ]
  },
  {
   "cell_type": "markdown",
   "metadata": {},
   "source": [
    "# Loading data"
   ]
  },
  {
   "cell_type": "code",
   "execution_count": 2,
   "metadata": {},
   "outputs": [
    {
     "data": {
      "text/html": [
       "<div>\n",
       "<style scoped>\n",
       "    .dataframe tbody tr th:only-of-type {\n",
       "        vertical-align: middle;\n",
       "    }\n",
       "\n",
       "    .dataframe tbody tr th {\n",
       "        vertical-align: top;\n",
       "    }\n",
       "\n",
       "    .dataframe thead th {\n",
       "        text-align: right;\n",
       "    }\n",
       "</style>\n",
       "<table border=\"1\" class=\"dataframe\">\n",
       "  <thead>\n",
       "    <tr style=\"text-align: right;\">\n",
       "      <th></th>\n",
       "      <th>datetime</th>\n",
       "      <th>usdchf_open</th>\n",
       "      <th>usdchf_high</th>\n",
       "      <th>usdchf_low</th>\n",
       "      <th>usdchf_close</th>\n",
       "      <th>usdchf_tv</th>\n",
       "      <th>usdchf_spread</th>\n",
       "      <th>usdchf_rv</th>\n",
       "    </tr>\n",
       "  </thead>\n",
       "  <tbody>\n",
       "    <tr>\n",
       "      <th>0</th>\n",
       "      <td>2015-11-17 07:00:00+00:00</td>\n",
       "      <td>1.01101</td>\n",
       "      <td>1.01130</td>\n",
       "      <td>1.01090</td>\n",
       "      <td>1.01128</td>\n",
       "      <td>703.0</td>\n",
       "      <td>10.0</td>\n",
       "      <td>6.699500e+08</td>\n",
       "    </tr>\n",
       "    <tr>\n",
       "      <th>1</th>\n",
       "      <td>2015-11-17 08:00:00+00:00</td>\n",
       "      <td>1.01126</td>\n",
       "      <td>1.01164</td>\n",
       "      <td>1.01110</td>\n",
       "      <td>1.01123</td>\n",
       "      <td>1270.0</td>\n",
       "      <td>9.0</td>\n",
       "      <td>9.757940e+08</td>\n",
       "    </tr>\n",
       "    <tr>\n",
       "      <th>2</th>\n",
       "      <td>2015-11-17 09:00:00+00:00</td>\n",
       "      <td>1.01127</td>\n",
       "      <td>1.01253</td>\n",
       "      <td>1.01104</td>\n",
       "      <td>1.01151</td>\n",
       "      <td>3989.0</td>\n",
       "      <td>9.0</td>\n",
       "      <td>3.140130e+09</td>\n",
       "    </tr>\n",
       "    <tr>\n",
       "      <th>3</th>\n",
       "      <td>2015-11-17 10:00:00+00:00</td>\n",
       "      <td>1.01152</td>\n",
       "      <td>1.01316</td>\n",
       "      <td>1.01141</td>\n",
       "      <td>1.01286</td>\n",
       "      <td>4926.0</td>\n",
       "      <td>9.0</td>\n",
       "      <td>3.578041e+09</td>\n",
       "    </tr>\n",
       "    <tr>\n",
       "      <th>4</th>\n",
       "      <td>2015-11-17 11:00:00+00:00</td>\n",
       "      <td>1.01285</td>\n",
       "      <td>1.01351</td>\n",
       "      <td>1.01076</td>\n",
       "      <td>1.01111</td>\n",
       "      <td>4746.0</td>\n",
       "      <td>9.0</td>\n",
       "      <td>3.484450e+09</td>\n",
       "    </tr>\n",
       "  </tbody>\n",
       "</table>\n",
       "</div>"
      ],
      "text/plain": [
       "                   datetime  usdchf_open  usdchf_high  usdchf_low  \\\n",
       "0 2015-11-17 07:00:00+00:00      1.01101      1.01130     1.01090   \n",
       "1 2015-11-17 08:00:00+00:00      1.01126      1.01164     1.01110   \n",
       "2 2015-11-17 09:00:00+00:00      1.01127      1.01253     1.01104   \n",
       "3 2015-11-17 10:00:00+00:00      1.01152      1.01316     1.01141   \n",
       "4 2015-11-17 11:00:00+00:00      1.01285      1.01351     1.01076   \n",
       "\n",
       "   usdchf_close  usdchf_tv  usdchf_spread     usdchf_rv  \n",
       "0       1.01128      703.0           10.0  6.699500e+08  \n",
       "1       1.01123     1270.0            9.0  9.757940e+08  \n",
       "2       1.01151     3989.0            9.0  3.140130e+09  \n",
       "3       1.01286     4926.0            9.0  3.578041e+09  \n",
       "4       1.01111     4746.0            9.0  3.484450e+09  "
      ]
     },
     "execution_count": 2,
     "metadata": {},
     "output_type": "execute_result"
    }
   ],
   "source": [
    "data_path = Path(r\"C:/\\Users/\\vchar/\\OneDrive/\\Desktop/\\ML Projects/\\portfolio/\\PublicTradingBot/\\experiments/\\merged_mt5_data.csv\")\n",
    "\n",
    "main_df = pd.read_csv(data_path)\n",
    "main_df['datetime'] = pd.to_datetime(main_df['datetime'])\n",
    "selected_cols = ['datetime']\n",
    "selected_cols.extend(\n",
    "    [col for col in main_df.columns if INSTRUMENT in col]\n",
    ")\n",
    "main_df = main_df[selected_cols]\n",
    "main_df.head()"
   ]
  },
  {
   "cell_type": "code",
   "execution_count": 3,
   "metadata": {},
   "outputs": [
    {
     "name": "stdout",
     "output_type": "stream",
     "text": [
      "(53681, 8) (17520, 8) (9989, 8)\n"
     ]
    }
   ],
   "source": [
    "train_df = main_df[main_df['datetime'].dt.year.isin(list(np.arange(2015, 2022)))]\n",
    "valid_df = main_df[main_df['datetime'].dt.year.isin(list(np.arange(2022, 2024)))]\n",
    "test_df = main_df[main_df['datetime'].dt.year.isin(list(np.arange(2024, 2026)))]\n",
    "\n",
    "print(train_df.shape, valid_df.shape, test_df.shape)"
   ]
  },
  {
   "cell_type": "markdown",
   "metadata": {},
   "source": [
    "# Creating supplementary functions"
   ]
  },
  {
   "cell_type": "code",
   "execution_count": 4,
   "metadata": {},
   "outputs": [],
   "source": [
    "@njit(cache=True)\n",
    "def get_lag(prices, lag=1):\n",
    "    \n",
    "    n = len(prices)\n",
    "    result = np.full((n, 1), np.nan, dtype=np.float64)  # Initialize with -999\n",
    "\n",
    "    for i in range(lag, n):\n",
    "        result[i] = prices[i - lag]\n",
    "\n",
    "    return result\n",
    "\n",
    "@njit(cache=True)\n",
    "def moving_min(arr, window):\n",
    "\n",
    "    result = np.full((len(arr), 1), np.nan, dtype=arr.dtype)\n",
    "    \n",
    "    for i in range(len(arr)):\n",
    "        if i + 1 >= window:\n",
    "            result[i] = np.min(arr[i + 1 - window:i + 1])\n",
    "\n",
    "    return result\n",
    "\n",
    "@njit(cache=True)\n",
    "def moving_max(arr, window):\n",
    "\n",
    "    result = np.full((len(arr), 1), np.nan, dtype=arr.dtype)\n",
    "    \n",
    "    for i in range(len(arr)):\n",
    "        if i + 1 >= window:\n",
    "            result[i] = np.max(arr[i + 1 - window:i + 1])\n",
    "\n",
    "    return result"
   ]
  },
  {
   "cell_type": "markdown",
   "metadata": {},
   "source": [
    "# Testing"
   ]
  },
  {
   "cell_type": "code",
   "execution_count": 5,
   "metadata": {},
   "outputs": [],
   "source": [
    "def strategy1(close, n_lags, ind_window):\n",
    "\n",
    "    entry = np.where(((close < get_lag(close, lag=n_lags))), -1, 0)\n",
    "    entry = np.where(((close > get_lag(close, lag=n_lags))), 1, entry)\n",
    "\n",
    "    # buy_entries = get_lag((entry == 1), lag=1)\n",
    "    buy_exits = (close == moving_min(close, window=ind_window))\n",
    "\n",
    "    # sell_entries = get_lag((entry == -1), lag=1)\n",
    "    sell_exits = (close == moving_max(close, window=ind_window))\n",
    "\n",
    "    buy_exits = buy_exits.reshape(-1, )\n",
    "    sell_exits = sell_exits.reshape(-1, )\n",
    "\n",
    "    return entry, buy_exits, sell_exits\n",
    "\n",
    "s1_indicator = vbt.IndicatorFactory(\n",
    "    class_name='Strategy1',\n",
    "    short_name='s1',\n",
    "    input_names=['close'],\n",
    "    param_names=['n_lags', 'ind_window'],\n",
    "    output_names=['value', 'buy_exit', 'sell_exit']\n",
    ").from_apply_func(strategy1, n_lags=1, ind_window=7)"
   ]
  },
  {
   "cell_type": "code",
   "execution_count": null,
   "metadata": {},
   "outputs": [],
   "source": [
    "# lags_values = list(np.arange(1, 150, 1))\n",
    "# bars_values = list(np.arange(1, 150, 1))\n",
    "lags_values = list(np.arange(501, 1001, 1))\n",
    "# bars_values = list(np.arange(150, 300, 1))\n",
    "window_values = list(np.arange(501, 1001, 1))\n",
    "\n",
    "\n",
    "s1_entries = s1_indicator.run(\n",
    "    train_df[f'{INSTRUMENT}_close'],\n",
    "    n_lags=lags_values,\n",
    "    ind_window=window_values,\n",
    "    param_product=True\n",
    ")\n",
    "buy_entries = (s1_entries.value == 1).vbt.fshift(1)\n",
    "sell_entries = (s1_entries.value == -1).vbt.fshift(1)\n",
    "buy_exits = s1_entries.buy_exit\n",
    "sell_exits = s1_entries.sell_exit\n",
    "\n",
    "s1_pf = vbt.Portfolio.from_signals(\n",
    "    train_df[f'{INSTRUMENT}_open'], \n",
    "    entries=buy_entries, \n",
    "    exits=buy_exits,\n",
    "    init_cash=100000,\n",
    "    fees=0.015,\n",
    "    slippage=0.00005,\n",
    "    size=0.1,\n",
    "    short_entries=sell_entries,\n",
    "    short_exits=sell_exits\n",
    ")\n",
    "\n",
    "# s1_pf.stats()\n",
    "returns = s1_pf.total_return()\n",
    "\n",
    "print(returns.max(), returns.idxmax())\n",
    "\n",
    "gc.collect()"
   ]
  },
  {
   "cell_type": "code",
   "execution_count": null,
   "metadata": {},
   "outputs": [],
   "source": []
  }
 ],
 "metadata": {
  "kernelspec": {
   "display_name": "ge_vbt",
   "language": "python",
   "name": "python3"
  },
  "language_info": {
   "codemirror_mode": {
    "name": "ipython",
    "version": 3
   },
   "file_extension": ".py",
   "mimetype": "text/x-python",
   "name": "python",
   "nbconvert_exporter": "python",
   "pygments_lexer": "ipython3",
   "version": "3.11.10"
  }
 },
 "nbformat": 4,
 "nbformat_minor": 2
}
