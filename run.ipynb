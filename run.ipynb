{
 "cells": [
  {
   "cell_type": "code",
   "execution_count": 2,
   "metadata": {},
   "outputs": [],
   "source": [
    "import os\n",
    "from pathlib import Path\n",
    "\n",
    "cur_dir = os.getcwd()\n",
    "os.chdir(Path(r'C:/\\Users/\\vchar/\\OneDrive/\\Desktop/\\ML Projects/\\Upwork/\\AlgoT_ML_Dev/\\GrammarEvolution/\\PonyGE2/\\src'))"
   ]
  },
  {
   "cell_type": "code",
   "execution_count": 3,
   "metadata": {},
   "outputs": [
    {
     "name": "stdout",
     "output_type": "stream",
     "text": [
      "\n",
      "Start:\t 2024-09-20 23:04:26.264874 \n",
      "\n"
     ]
    },
    {
     "name": "stderr",
     "output_type": "stream",
     "text": [
      "Traceback (most recent call last):\n",
      "  File \"C:\\Users\\vchar\\OneDrive\\Desktop\\ML Projects\\Upwork\\AlgoT_ML_Dev\\GrammarEvolution\\PonyGE2\\src\\ponyge.py\", line 31, in <module>\n",
      "    mane()\n",
      "  File \"C:\\Users\\vchar\\OneDrive\\Desktop\\ML Projects\\Upwork\\AlgoT_ML_Dev\\GrammarEvolution\\PonyGE2\\src\\ponyge.py\", line 21, in mane\n",
      "    set_params(sys.argv[1:])  # exclude the ponyge.py arg itself\n",
      "  File \"C:\\Users\\vchar\\OneDrive\\Desktop\\ML Projects\\Upwork\\AlgoT_ML_Dev\\GrammarEvolution\\PonyGE2\\src\\algorithm\\parameters.py\", line 317, in set_params\n",
      "    set_param_imports()\n",
      "  File \"C:\\Users\\vchar\\OneDrive\\Desktop\\ML Projects\\Upwork\\AlgoT_ML_Dev\\GrammarEvolution\\PonyGE2\\src\\utilities\\algorithm\\initialise_run.py\", line 99, in set_param_imports\n",
      "    get_fit_func_imports()\n",
      "  File \"C:\\Users\\vchar\\OneDrive\\Desktop\\ML Projects\\Upwork\\AlgoT_ML_Dev\\GrammarEvolution\\PonyGE2\\src\\utilities\\algorithm\\initialise_run.py\", line 243, in get_fit_func_imports\n",
      "    params[op] = return_attr_from_module(module_name, attr_name)\n",
      "  File \"C:\\Users\\vchar\\OneDrive\\Desktop\\ML Projects\\Upwork\\AlgoT_ML_Dev\\GrammarEvolution\\PonyGE2\\src\\utilities\\algorithm\\initialise_run.py\", line 262, in return_attr_from_module\n",
      "    module = importlib.import_module(module_name)\n",
      "  File \"c:\\Users\\vchar\\anaconda3\\envs\\crypto_trading\\lib\\importlib\\__init__.py\", line 126, in import_module\n",
      "    return _bootstrap._gcd_import(name[level:], package, level)\n",
      "  File \"<frozen importlib._bootstrap>\", line 1050, in _gcd_import\n",
      "  File \"<frozen importlib._bootstrap>\", line 1027, in _find_and_load\n",
      "  File \"<frozen importlib._bootstrap>\", line 1006, in _find_and_load_unlocked\n",
      "  File \"<frozen importlib._bootstrap>\", line 688, in _load_unlocked\n",
      "  File \"<frozen importlib._bootstrap_external>\", line 883, in exec_module\n",
      "  File \"<frozen importlib._bootstrap>\", line 241, in _call_with_frames_removed\n",
      "  File \"C:\\Users\\vchar\\OneDrive\\Desktop\\ML Projects\\Upwork\\AlgoT_ML_Dev\\GrammarEvolution\\PonyGE2\\src\\fitness\\max_fitness.py\", line 1, in <module>\n",
      "    from fitness.base_ff_classes.base_ff import base_ff\n",
      "  File \"C:\\Users\\vchar\\OneDrive\\Desktop\\ML Projects\\Upwork\\AlgoT_ML_Dev\\GrammarEvolution\\PonyGE2\\src\\fitness\\base_ff_classes\\base_ff.py\", line 6, in <module>\n",
      "    class base_ff:\n",
      "  File \"C:\\Users\\vchar\\OneDrive\\Desktop\\ML Projects\\Upwork\\AlgoT_ML_Dev\\GrammarEvolution\\PonyGE2\\src\\fitness\\base_ff_classes\\base_ff.py\", line 15, in base_ff\n",
      "    default_fitness = np.NaN\n",
      "  File \"c:\\Users\\vchar\\anaconda3\\envs\\crypto_trading\\lib\\site-packages\\numpy\\__init__.py\", line 411, in __getattr__\n",
      "    raise AttributeError(\n",
      "AttributeError: `np.NaN` was removed in the NumPy 2.0 release. Use `np.nan` instead.. Did you mean: 'nan'?\n"
     ]
    }
   ],
   "source": [
    "! python ponyge.py --fitness_function max_fitness --grammar_file test1.pybnf --population_size 500 --generations 100"
   ]
  },
  {
   "cell_type": "code",
   "execution_count": null,
   "metadata": {},
   "outputs": [],
   "source": []
  }
 ],
 "metadata": {
  "kernelspec": {
   "display_name": "crypto_trading",
   "language": "python",
   "name": "python3"
  },
  "language_info": {
   "codemirror_mode": {
    "name": "ipython",
    "version": 3
   },
   "file_extension": ".py",
   "mimetype": "text/x-python",
   "name": "python",
   "nbconvert_exporter": "python",
   "pygments_lexer": "ipython3",
   "version": "3.10.14"
  }
 },
 "nbformat": 4,
 "nbformat_minor": 2
}
