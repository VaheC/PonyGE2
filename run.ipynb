{
 "cells": [
  {
   "cell_type": "code",
   "execution_count": 1,
   "metadata": {},
   "outputs": [],
   "source": [
    "import os\n",
    "from pathlib import Path\n",
    "\n",
    "cur_dir = os.getcwd()\n",
    "os.chdir(Path(r'C:/\\Users/\\vchar/\\OneDrive/\\Desktop/\\ML Projects/\\Upwork/\\AlgoT_ML_Dev/\\GrammarEvolution/\\PonyGE2/\\src'))"
   ]
  },
  {
   "cell_type": "code",
   "execution_count": 20,
   "metadata": {},
   "outputs": [
    {
     "name": "stdout",
     "output_type": "stream",
     "text": [
      "\n",
      "Start:\t 2024-10-09 17:25:09.262947 \n",
      "\n",
      "Warning: Grammar contains unit production for production rule <fc>\n",
      "         Unit productions consume GE codons.\n",
      "Warning: Grammar contains unit production for production rule <deff>\n",
      "         Unit productions consume GE codons.\n",
      "Warning: Grammar contains unit production for production rule <callf>\n",
      "         Unit productions consume GE codons.\n",
      "Evolution: 0% complete\n",
      "Evolution: 50% complete\n",
      "Evolution: 50% complete\n",
      "\n",
      "\n",
      "Best:\n",
      "  Fitness:\t 404\n",
      "  Phenotype: def fun(price_data):\n",
      "  import pandas as pd\n",
      "  import numpy as np\n",
      "  from fitness.indicators import numba_indicators\n",
      "  from fitness.performance.helper_func import merge_pnl, get_drawdowns, get_pnl, trading_signals, get_lag\n",
      "  from numba import njit\n",
      "  COMMISSION = 0.015\n",
      "  SLIPPAGE = 0.00005\n",
      "  AVAILABLE_CAPITAL = 700000\n",
      "  TRADE_SIZE = 0.5\n",
      "  MAX_LAG = 5\n",
      "  buy_idxs, sell_idxs = trading_signals(buy_signal=np.log(numba_indicators.delta_intraday_intensity(high=price_data['dog_high'][MAX_LAG:], low=price_data['dog_low'][MAX_LAG:], close=price_data['6e_close'][MAX_LAG:], volume=price_data['tia_volume'][MAX_LAG:])) == np.sqrt(numba_indicators.close_to_close(close=price_data['tia_close'][MAX_LAG:])), sell_signal=(np.log(numba_indicators.intraday_intensity(high=price_data['aapl_high'][MAX_LAG:], low=price_data['tia_low'][MAX_LAG:], close=price_data['gc_close'][MAX_LAG:], volume=price_data['xrp_volume'][MAX_LAG:])) % 0.40) != 0.32)\n",
      "  if len(buy_idxs) == 0 or len(sell_idxs) == 0:\n",
      "    return 999\n",
      "  buy_idxs = np.array(buy_idxs)\n",
      "  sell_idxs = np.array(sell_idxs)\n",
      "  open_prices = price_data['btc_open']\n",
      "  buy_prices = open_prices[np.isin(np.arange(len(open_prices)), buy_idxs)]\n",
      "  sell_prices = open_prices[np.isin(np.arange(len(open_prices)), sell_idxs)]\n",
      "  if buy_idxs[0] < sell_idxs[0]:\n",
      "    buy_arr = get_pnl(sell_prices, buy_prices, COMMISSION, SLIPPAGE, AVAILABLE_CAPITAL, TRADE_SIZE, 1)\n",
      "    buy_pnl = np.sum(buy_arr)\n",
      "    sell_arr = get_pnl(buy_prices[1:], sell_prices[:-1], COMMISSION, SLIPPAGE, AVAILABLE_CAPITAL, TRADE_SIZE, 0)\n",
      "    sell_pnl = np.sum(sell_arr)\n",
      "    all_arr = merge_pnl(buy_arr, sell_arr)\n",
      "  else:\n",
      "    sell_arr = get_pnl(buy_prices, sell_prices, COMMISSION, SLIPPAGE, AVAILABLE_CAPITAL, TRADE_SIZE, 0)\n",
      "    sell_pnl = np.sum(sell_arr)\n",
      "    buy_arr = get_pnl(sell_prices[1:], buy_prices[:-1], COMMISSION, SLIPPAGE, AVAILABLE_CAPITAL, TRADE_SIZE, 1)\n",
      "    buy_pnl = np.sum(buy_arr)\n",
      "    all_arr = merge_pnl(sell_arr, buy_arr)\n",
      "  total_pnl = buy_pnl + sell_pnl\n",
      "  if total_pnl <= 0:\n",
      "    return 999\n",
      "  equity_curve_arr = np.cumsum(all_arr)\n",
      "  drawdowns = get_drawdowns(equity_curve_arr)\n",
      "  if len(drawdowns[drawdowns!=0]) == 0:\n",
      "    return 999\n",
      "  avg_drawdown = np.sum(drawdowns[drawdowns!=0]) / len(drawdowns[drawdowns!=0])\n",
      "  fitness = total_pnl / avg_drawdown\n",
      "  if fitness > 50:\n",
      "    return 999\n",
      "  if np.isnan(fitness):\n",
      "    return 999\n",
      "  return -fitness\n",
      "fitness = fun(price_data)\n",
      "  Genome: [83152, 80254, 87910, 73655, 13010, 48531, 40420, 3568, 52752, 91409, 76144, 43468, 39635, 17887, 91931, 11098, 68763, 54498, 31054, 98895, 35893, 89487, 84014, 30649, 98459, 67290, 63710, 77873, 45560, 57994, 37915, 97469, 42257, 40375, 53483, 78127, 42949, 92645, 79499, 154, 25831, 4505, 21781, 50925, 98693, 580, 42764, 88792, 72757, 69823, 27071, 94829]\n",
      "______\n",
      "\n",
      "  ave_fitness : \t 924.625\n",
      "  ave_genome_length : \t 65.7\n",
      "  ave_tree_depth : \t 8.125\n",
      "  ave_tree_nodes : \t 50.625\n",
      "  ave_used_codons : \t 34.9375\n",
      "  best_fitness : \t 404\n",
      "  gen : \t 1\n",
      "  invalids : \t 5\n",
      "  max_genome_length : \t 140\n",
      "  max_tree_depth : \t 9.0\n",
      "  max_tree_nodes : \t 80.0\n",
      "  max_used_codons : \t 55.0\n",
      "  min_genome_length : \t 15\n",
      "  min_tree_depth : \t 7.0\n",
      "  min_tree_nodes : \t 31.0\n",
      "  min_used_codons : \t 22.0\n",
      "  runtime_error : \t 0\n",
      "  time_adjust : \t 0\n",
      "  time_taken : \t 15.353280067443848\n",
      "  total_inds : \t 40\n",
      "  total_time : \t 36.952529191970825\n",
      "\n",
      "\n"
     ]
    }
   ],
   "source": [
    "! python ponyge.py --fitness_function max_fitness_numba --grammar_file btc_inst_ind_comb_res_numba.pybnf --population_size 20 --generations 1"
   ]
  },
  {
   "cell_type": "code",
   "execution_count": null,
   "metadata": {},
   "outputs": [],
   "source": []
  },
  {
   "cell_type": "code",
   "execution_count": null,
   "metadata": {},
   "outputs": [],
   "source": []
  }
 ],
 "metadata": {
  "kernelspec": {
   "display_name": "grammar_evol",
   "language": "python",
   "name": "python3"
  },
  "language_info": {
   "codemirror_mode": {
    "name": "ipython",
    "version": 3
   },
   "file_extension": ".py",
   "mimetype": "text/x-python",
   "name": "python",
   "nbconvert_exporter": "python",
   "pygments_lexer": "ipython3",
   "version": "3.10.14"
  }
 },
 "nbformat": 4,
 "nbformat_minor": 2
}
