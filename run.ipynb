{
 "cells": [
  {
   "cell_type": "code",
   "execution_count": 1,
   "metadata": {},
   "outputs": [],
   "source": [
    "import os\n",
    "from pathlib import Path\n",
    "\n",
    "cur_dir = os.getcwd()\n",
    "os.chdir(Path(r'C:/\\Users/\\vchar/\\OneDrive/\\Desktop/\\ML Projects/\\Upwork/\\AlgoT_ML_Dev/\\GrammarEvolution/\\PonyGE2/\\src'))"
   ]
  },
  {
   "cell_type": "code",
   "execution_count": null,
   "metadata": {},
   "outputs": [],
   "source": [
    "! python ponyge.py --fitness_function max_fitness_numba --grammar_file btc_inst_ind_comb_numba.pybnf --population_size 300 --generations 100"
   ]
  },
  {
   "cell_type": "code",
   "execution_count": 7,
   "metadata": {},
   "outputs": [
    {
     "name": "stdout",
     "output_type": "stream",
     "text": [
      "ge_results.csv size = (16449, 3)\n",
      "ge_results2.csv size = (16165, 3)\n",
      "ge_results3.csv size = (5397, 3)\n",
      "ge_results_inst_ind_comb_numba2.csv size = (9955, 3)\n",
      "ge_results_inst_ind_comb_res_numba.csv size = (9917, 3)\n",
      "(57883, 3)\n"
     ]
    },
    {
     "data": {
      "text/html": [
       "<div>\n",
       "<style scoped>\n",
       "    .dataframe tbody tr th:only-of-type {\n",
       "        vertical-align: middle;\n",
       "    }\n",
       "\n",
       "    .dataframe tbody tr th {\n",
       "        vertical-align: top;\n",
       "    }\n",
       "\n",
       "    .dataframe thead th {\n",
       "        text-align: right;\n",
       "    }\n",
       "</style>\n",
       "<table border=\"1\" class=\"dataframe\">\n",
       "  <thead>\n",
       "    <tr style=\"text-align: right;\">\n",
       "      <th></th>\n",
       "      <th>buy</th>\n",
       "      <th>sell</th>\n",
       "      <th>fitness</th>\n",
       "    </tr>\n",
       "  </thead>\n",
       "  <tbody>\n",
       "    <tr>\n",
       "      <th>0</th>\n",
       "      <td>(np.sin(get_lag(price_data['ng_low'], lag=3)[M...</td>\n",
       "      <td>get_lag(price_data['cl_high'], lag=3)[MAX_LAG:...</td>\n",
       "      <td>404.0</td>\n",
       "    </tr>\n",
       "    <tr>\n",
       "      <th>1</th>\n",
       "      <td>(np.log(get_lag(price_data['zf_low'], lag=1)[M...</td>\n",
       "      <td>price_data['coin_close'][MAX_LAG:] &lt;= 6037</td>\n",
       "      <td>404.0</td>\n",
       "    </tr>\n",
       "    <tr>\n",
       "      <th>2</th>\n",
       "      <td>(np.cos(get_lag(price_data['msft_open'], lag=5...</td>\n",
       "      <td>(get_lag(price_data['lin_volume'], lag=2)[MAX_...</td>\n",
       "      <td>404.0</td>\n",
       "    </tr>\n",
       "    <tr>\n",
       "      <th>3</th>\n",
       "      <td>(((np.cos(get_lag(price_data['fet_volume'], la...</td>\n",
       "      <td>(np.log(price_data['aapl_high'][MAX_LAG:]) / 5...</td>\n",
       "      <td>404.0</td>\n",
       "    </tr>\n",
       "    <tr>\n",
       "      <th>4</th>\n",
       "      <td>(np.sin(get_lag(price_data['6e_open'], lag=5)[...</td>\n",
       "      <td>(((np.cos(get_lag(price_data['aapl_volume'], l...</td>\n",
       "      <td>404.0</td>\n",
       "    </tr>\n",
       "  </tbody>\n",
       "</table>\n",
       "</div>"
      ],
      "text/plain": [
       "                                                 buy  \\\n",
       "0  (np.sin(get_lag(price_data['ng_low'], lag=3)[M...   \n",
       "1  (np.log(get_lag(price_data['zf_low'], lag=1)[M...   \n",
       "2  (np.cos(get_lag(price_data['msft_open'], lag=5...   \n",
       "3  (((np.cos(get_lag(price_data['fet_volume'], la...   \n",
       "4  (np.sin(get_lag(price_data['6e_open'], lag=5)[...   \n",
       "\n",
       "                                                sell  fitness  \n",
       "0  get_lag(price_data['cl_high'], lag=3)[MAX_LAG:...    404.0  \n",
       "1         price_data['coin_close'][MAX_LAG:] <= 6037    404.0  \n",
       "2  (get_lag(price_data['lin_volume'], lag=2)[MAX_...    404.0  \n",
       "3  (np.log(price_data['aapl_high'][MAX_LAG:]) / 5...    404.0  \n",
       "4  (((np.cos(get_lag(price_data['aapl_volume'], l...    404.0  "
      ]
     },
     "execution_count": 7,
     "metadata": {},
     "output_type": "execute_result"
    }
   ],
   "source": [
    "import pandas as pd\n",
    "\n",
    "list_files = os.listdir()\n",
    "list_files = [file for file in list_files if file.endswith('.csv')]\n",
    "\n",
    "ge_df = pd.DataFrame()\n",
    "\n",
    "for file in list_files:\n",
    "    temp_df = pd.read_csv(file)\n",
    "    print(f\"{file} size = {temp_df.shape}\")\n",
    "    ge_df = pd.concat([ge_df, temp_df], axis=0)\n",
    "\n",
    "ge_df.to_csv('ge_results_inst_ind_comb_numba.csv', index=False)\n",
    "\n",
    "print(ge_df.shape)\n",
    "\n",
    "ge_df.head()"
   ]
  },
  {
   "cell_type": "code",
   "execution_count": null,
   "metadata": {},
   "outputs": [],
   "source": []
  }
 ],
 "metadata": {
  "kernelspec": {
   "display_name": "grammar_evol",
   "language": "python",
   "name": "python3"
  },
  "language_info": {
   "codemirror_mode": {
    "name": "ipython",
    "version": 3
   },
   "file_extension": ".py",
   "mimetype": "text/x-python",
   "name": "python",
   "nbconvert_exporter": "python",
   "pygments_lexer": "ipython3",
   "version": "3.10.14"
  }
 },
 "nbformat": 4,
 "nbformat_minor": 2
}
